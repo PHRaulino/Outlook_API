{
 "metadata": {
  "language_info": {
   "codemirror_mode": {
    "name": "ipython",
    "version": 3
   },
   "file_extension": ".py",
   "mimetype": "text/x-python",
   "name": "python",
   "nbconvert_exporter": "python",
   "pygments_lexer": "ipython3",
   "version": "3.8.3-final"
  },
  "orig_nbformat": 2,
  "kernelspec": {
   "name": "python3",
   "display_name": "Python 3.8.3 64-bit ('base': conda)",
   "metadata": {
    "interpreter": {
     "hash": "b4aabfec68013c891171338f29997724a802a38415746effd8ee5e7c673cffb4"
    }
   }
  }
 },
 "nbformat": 4,
 "nbformat_minor": 2,
 "cells": [
  {
   "source": [
    "### Preparando o Ambiente"
   ],
   "cell_type": "markdown",
   "metadata": {}
  },
  {
   "cell_type": "code",
   "execution_count": null,
   "metadata": {},
   "outputs": [],
   "source": [
    "import pandas as pd\n",
    "from bs4 import BeautifulSoup\n",
    "import re"
   ]
  },
  {
   "source": [
    "### Upload Calendario"
   ],
   "cell_type": "markdown",
   "metadata": {}
  },
  {
   "cell_type": "code",
   "execution_count": 485,
   "metadata": {},
   "outputs": [],
   "source": [
    "soup = BeautifulSoup(open('Infos/Complete.html',encoding='utf-8-sig').read())\n",
    "df_aulas = pd.DataFrame()\n",
    "for id in [ i for i in range(7)]:\n",
    "    regex = re.compile(r'>.*?<')\n",
    "    text = soup.find('div', {\"id\": \"win0divDERIVED_REGFRM1_DESCR20${}\".format(id)}).find('td', {'class': 'PAGROUPDIVIDER PSLEFTCORNER'}).prettify().replace('\\n','')\n",
    "    materia = regex.findall(text)[0].replace('> ','').replace('<','')\n",
    "\n",
    "    df = pd.read_html(soup.find('div', {\"id\": f\"win0divCLASS_MTG_VW${id}\"}).prettify())[0]\n",
    "    df.columns = ['NR_AULA', 'SECAO', 'COMPONENTE', 'HORARIO', 'SALA', 'PROFESSOR', 'DATAS']\n",
    "    df['START'] = pd.Series(row[1]['DATAS'].split(' - ')[0] for row in df.iterrows())\n",
    "    df['END'] = pd.Series(row[1]['DATAS'].split(' - ')[1] for row in df.iterrows())\n",
    "    try:\n",
    "        df['HR_START'] = pd.Series(row[1]['HORARIO'].split(' - ')[0][4:] for row in df.iterrows())\n",
    "        df['HR_END'] = pd.Series(row[1]['HORARIO'].split(' - ')[1] for row in df.iterrows())\n",
    "    except:\n",
    "        df['HR_START'] = '11:00'\n",
    "        df['HR_END'] = '12:00'\n",
    "    df['MATERIA'] = materia\n",
    "    df.START = pd.to_datetime(df.START + ' ' + df.HR_START, format='%d/%m/%Y %H:%M').dt.strftime('%Y-%m-%dT%H:%M')\n",
    "    df.END = pd.to_datetime(df.END + ' ' + df.HR_END, format='%d/%m/%Y %H:%M').dt.strftime('%Y-%m-%dT%H:%M')\n",
    "    df.NR_AULA = df.loc[0].NR_AULA.astype(int)\n",
    "    df.SECAO = df.loc[0].SECAO\n",
    "    df.COMPONENTE = df.loc[0].COMPONENTE\n",
    "    df['SORT_PROF'] = pd.Series(' '.join(row[1]['PROFESSOR'].split(' ')[:2]) for row in df.iterrows())\n",
    "    df_aulas = pd.concat([df_aulas, df])\n",
    "df_aulas = df_aulas.reset_index(drop=True)"
   ]
  },
  {
   "source": [
    "### Cria String do Array de Eventos Objetos JS"
   ],
   "cell_type": "markdown",
   "metadata": {}
  },
  {
   "cell_type": "code",
   "execution_count": 487,
   "metadata": {
    "tags": []
   },
   "outputs": [],
   "source": [
    "string_json = 'const eventos = ['\n",
    "cont_aulas = 0\n",
    "for i in [ row[1] for row in df_aulas.iterrows()]:\n",
    "\n",
    "    prof = i.SORT_PROF\n",
    "    professor = i.PROFESSOR\n",
    "    aula = str(i.NR_AULA)\n",
    "    secao = i.SECAO\n",
    "    componente = i.COMPONENTE\n",
    "    start = i.START\n",
    "    end = i.END\n",
    "    materia = i.MATERIA\n",
    "\n",
    "    string_json += \"\"\"\n",
    "        {\n",
    "          body: {\n",
    "                  contentType: \"text\",\n",
    "                  content:`\n",
    "                  Professor: \"\"\"+ professor +\"\"\"\n",
    "                  Nº Aula: \"\"\" + aula + \"\"\"\n",
    "                  ID Seção: \"\"\" + secao + \"\"\"\n",
    "                  Modalidade: \"\"\" + componente + \"\"\"\n",
    "                  `\n",
    "                },\n",
    "         start: {\n",
    "                   dateTime:'\"\"\"+ start +\"\"\"',\n",
    "                   timeZone: \"E. South America Standard Time\"\n",
    "                },\n",
    "           end: {\n",
    "                  dateTime:'\"\"\"+ end +\"\"\"',\n",
    "                  timeZone: \"E. South America Standard Time\"\n",
    "                },\n",
    "       subject: '\"\"\" + materia + \"\"\": \"\"\" + prof + \"\"\"'\n",
    "        },\n",
    "    \"\"\"\n",
    "    cont_aulas = cont_aulas + 1\n",
    "string_json +=' ]'\n",
    "\n",
    "f = open(f\"../eventos_aulas.js\", \"w\", encoding='utf-8-sig')\n",
    "f.write(string_json)\n",
    "f.close()"
   ]
  }
 ]
}